{
  "cells": [
    {
      "cell_type": "markdown",
      "metadata": {
        "id": "view-in-github",
        "colab_type": "text"
      },
      "source": [
        "<a href=\"https://colab.research.google.com/github/Tajwarresearch/DataAnotation/blob/main/Dataset_Change_Detect_Assignment.ipynb\" target=\"_parent\"><img src=\"https://colab.research.google.com/assets/colab-badge.svg\" alt=\"Open In Colab\"/></a>"
      ]
    },
    {
      "cell_type": "code",
      "source": [
        "import pandas as pd\n",
        "import plotly.express as px\n",
        "from jupyter_dash import JupyterDash\n",
        "from dash import dcc, html\n",
        "from dash.dependencies import Input, Output, State\n",
        "import plotly.graph_objs as go\n",
        "\n",
        "# Sample data (replace this with your actual data)\n",
        "# Assuming you have a variable 'merged' that contains your CPU, memory, and disk data\n",
        "# Here, we create a DataFrame 'df' using merged[5], merged[6], and merged[12]\n",
        "df = pd.DataFrame({'index': range(len(merged)), 'CPU': merged['5'], 'Memory': merged['6'], 'Disk': merged['12']})\n",
        "df['CPU_label'] = 0  # Initialize the 'label' column with 0 for CPU\n",
        "df['Memory_label'] = 0  # Initialize the 'label' column with 0 for Memory\n",
        "df['Disk_label'] = 0  # Initialize the 'label' column with 0 for Disk\n",
        "\n",
        "app = JupyterDash(__name__)\n",
        "\n",
        "app.layout = html.Div([\n",
        "    html.Div([\n",
        "        dcc.Graph(id='cpu-graph', config={'staticPlot': False, 'displayModeBar': True}),\n",
        "        html.Button(\"Mark Drift (CPU)\", id='cpu-mark-button', style={'display': 'block', 'margin': 'auto', 'padding': '10px 20px', 'font-size': '16px'}),\n",
        "    ]),\n",
        "    html.Div([\n",
        "        dcc.Graph(id='memory-graph', config={'staticPlot': False, 'displayModeBar': True}),\n",
        "        html.Button(\"Mark Drift (Memory)\", id='memory-mark-button', style={'display': 'block', 'margin': 'auto', 'padding': '10px 20px', 'font-size': '16px'}),\n",
        "    ]),\n",
        "    html.Div([\n",
        "        dcc.Graph(id='disk-graph', config={'staticPlot': False, 'displayModeBar': True}),\n",
        "        html.Button(\"Mark Drift (Disk)\", id='disk-mark-button', style={'display': 'block', 'margin': 'auto', 'padding': '10px 20px', 'font-size': '16px'}),\n",
        "    ]),\n",
        "])\n",
        "\n",
        "@app.callback(\n",
        "    Output('cpu-graph', 'figure'),\n",
        "    Input('cpu-mark-button', 'n_clicks'),\n",
        "    State('cpu-graph', 'relayoutData')\n",
        ")\n",
        "def update_cpu_graph(n_clicks, relayout_data):\n",
        "    if n_clicks is None:\n",
        "        n_clicks = 0  # Set initial value for n_clicks\n",
        "\n",
        "    if relayout_data is None:\n",
        "        return px.line(df, x='index', y='CPU', labels={'index': 'Time', 'CPU': 'Value'}, title='CPU Time Series Data')\n",
        "\n",
        "    xaxis_range = relayout_data.get('xaxis.range', None)\n",
        "    if xaxis_range:\n",
        "        xaxis_min, xaxis_max = xaxis_range\n",
        "        df.loc[(df['index'] >= xaxis_min) & (df['index'] <= xaxis_max), 'CPU_label'] = 1  # Update 'CPU_label' to 1 when marking as 'Drift'\n",
        "\n",
        "    fig = px.line(df, x='index', y='CPU', labels={'index': 'Time', 'CPU': 'Value'}, title='CPU Time Series Data with Drift')\n",
        "\n",
        "    # Change the marker symbol to a red circle ('circle' symbol) and color to red\n",
        "    df_drift = df[df['CPU_label'] == 1]\n",
        "    fig.add_trace(go.Scatter(x=df_drift['index'], y=df_drift['CPU'], mode='markers', marker=dict(symbol='circle', color='red'), name='Drift'))\n",
        "\n",
        "    fig.update_xaxes(rangeslider_visible=True)\n",
        "\n",
        "    return fig\n",
        "\n",
        "@app.callback(\n",
        "    Output('memory-graph', 'figure'),\n",
        "    Input('memory-mark-button', 'n_clicks'),\n",
        "    State('memory-graph', 'relayoutData')\n",
        ")\n",
        "def update_memory_graph(n_clicks, relayout_data):\n",
        "    if n_clicks is None:\n",
        "        n_clicks = 0  # Set initial value for n_clicks\n",
        "\n",
        "    if relayout_data is None:\n",
        "        return px.line(df, x='index', y='Memory', labels={'index': 'Time', 'Memory': 'Value'}, title='Memory Time Series Data')\n",
        "\n",
        "    xaxis_range = relayout_data.get('xaxis.range', None)\n",
        "    if xaxis_range:\n",
        "        xaxis_min, xaxis_max = xaxis_range\n",
        "        df.loc[(df['index'] >= xaxis_min) & (df['index'] <= xaxis_max), 'Memory_label'] = 1  # Update 'Memory_label' to 1 when marking as 'Drift'\n",
        "\n",
        "    fig = px.line(df, x='index', y='Memory', labels={'index': 'Time', 'Memory': 'Value'}, title='Memory Time Series Data with Drift')\n",
        "\n",
        "    # Change the marker symbol to a red circle ('circle' symbol) and color to red\n",
        "    df_drift = df[df['Memory_label'] == 1]\n",
        "    fig.add_trace(go.Scatter(x=df_drift['index'], y=df_drift['Memory'], mode='markers', marker=dict(symbol='circle', color='red'), name='Drift'))\n",
        "\n",
        "    fig.update_xaxes(rangeslider_visible=True)\n",
        "\n",
        "    return fig\n",
        "\n",
        "@app.callback(\n",
        "    Output('disk-graph', 'figure'),\n",
        "    Input('disk-mark-button', 'n_clicks'),\n",
        "    State('disk-graph', 'relayoutData')\n",
        ")\n",
        "def update_disk_graph(n_clicks, relayout_data):\n",
        "    if n_clicks is None:\n",
        "        n_clicks = 0  # Set initial value for n_clicks\n",
        "\n",
        "    if relayout_data is None:\n",
        "        return px.line(df, x='index', y='Disk', labels={'index': 'Time', 'Disk': 'Value'}, title='Disk Time Series Data')\n",
        "\n",
        "    xaxis_range = relayout_data.get('xaxis.range', None)\n",
        "    if xaxis_range:\n",
        "        xaxis_min, xaxis_max = xaxis_range\n",
        "        df.loc[(df['index'] >= xaxis_min) & (df['index'] <= xaxis_max), 'Disk_label'] = 1  # Update 'Disk_label' to 1 when marking as 'Drift'\n",
        "\n",
        "    fig = px.line(df, x='index', y='Disk', labels={'index': 'Time', 'Disk': 'Value'}, title='Disk Time Series Data with Drift')\n",
        "\n",
        "    # Change the marker symbol to a red circle ('circle' symbol) and color to red\n",
        "    df_drift = df[df['Disk_label'] == 1]\n",
        "    fig.add_trace(go.Scatter(x=df_drift['index'], y=df_drift['Disk'], mode='markers', marker=dict(symbol='circle', color='red'), name='Drift'))\n",
        "\n",
        "    fig.update_xaxes(rangeslider_visible=True)\n",
        "\n",
        "    return fig\n",
        "\n",
        "\n"
      ],
      "metadata": {
        "id": "VKfgKL2nl5HR"
      },
      "execution_count": null,
      "outputs": []
    },
    {
      "cell_type": "code",
      "source": [
        "# @title Default title text\n",
        "filename = \"1\" # @param {type:\"string\"}\n"
      ],
      "metadata": {
        "id": "F8-btkRWU-jM"
      },
      "execution_count": 1,
      "outputs": []
    },
    {
      "cell_type": "markdown",
      "metadata": {
        "id": "lDd-dmY1Xna6"
      },
      "source": [
        "# Library\n"
      ]
    },
    {
      "cell_type": "code",
      "execution_count": 1,
      "metadata": {
        "id": "tAYPWGmEkJIh",
        "colab": {
          "base_uri": "https://localhost:8080/"
        },
        "outputId": "5081757a-9d2d-4b3f-dddc-2e796ccbd727"
      },
      "outputs": [
        {
          "output_type": "stream",
          "name": "stdout",
          "text": [
            "Collecting dynarray\n",
            "  Downloading dynarray-0.1.3.tar.gz (2.9 kB)\n",
            "  Preparing metadata (setup.py) ... \u001b[?25l\u001b[?25hdone\n",
            "Requirement already satisfied: numpy in /usr/local/lib/python3.10/dist-packages (from dynarray) (1.23.5)\n",
            "Building wheels for collected packages: dynarray\n",
            "  Building wheel for dynarray (setup.py) ... \u001b[?25l\u001b[?25hdone\n",
            "  Created wheel for dynarray: filename=dynarray-0.1.3-py3-none-any.whl size=3414 sha256=4d494b087fa13e8c0b6212525029156cda8c3e1774441d99bc3d7394be5ab6d4\n",
            "  Stored in directory: /root/.cache/pip/wheels/28/48/46/1984e3ea5a27e3012101e41f291452f2a45deeb7d04526f25a\n",
            "Successfully built dynarray\n",
            "Installing collected packages: dynarray\n",
            "Successfully installed dynarray-0.1.3\n",
            "Collecting deap\n",
            "  Downloading deap-1.4.1-cp310-cp310-manylinux_2_5_x86_64.manylinux1_x86_64.manylinux_2_17_x86_64.manylinux2014_x86_64.whl (135 kB)\n",
            "\u001b[2K     \u001b[90m━━━━━━━━━━━━━━━━━━━━━━━━━━━━━━━━━━━━━\u001b[0m \u001b[32m135.4/135.4 kB\u001b[0m \u001b[31m982.8 kB/s\u001b[0m eta \u001b[36m0:00:00\u001b[0m\n",
            "\u001b[?25hRequirement already satisfied: numpy in /usr/local/lib/python3.10/dist-packages (from deap) (1.23.5)\n",
            "Installing collected packages: deap\n",
            "Successfully installed deap-1.4.1\n",
            "Collecting keras-tuner\n",
            "  Downloading keras_tuner-1.3.5-py3-none-any.whl (176 kB)\n",
            "\u001b[2K     \u001b[90m━━━━━━━━━━━━━━━━━━━━━━━━━━━━━━━━━━━━━━━\u001b[0m \u001b[32m176.1/176.1 kB\u001b[0m \u001b[31m2.1 MB/s\u001b[0m eta \u001b[36m0:00:00\u001b[0m\n",
            "\u001b[?25hRequirement already satisfied: packaging in /usr/local/lib/python3.10/dist-packages (from keras-tuner) (23.1)\n",
            "Requirement already satisfied: requests in /usr/local/lib/python3.10/dist-packages (from keras-tuner) (2.31.0)\n",
            "Collecting kt-legacy (from keras-tuner)\n",
            "  Downloading kt_legacy-1.0.5-py3-none-any.whl (9.6 kB)\n",
            "Requirement already satisfied: charset-normalizer<4,>=2 in /usr/local/lib/python3.10/dist-packages (from requests->keras-tuner) (3.2.0)\n",
            "Requirement already satisfied: idna<4,>=2.5 in /usr/local/lib/python3.10/dist-packages (from requests->keras-tuner) (3.4)\n",
            "Requirement already satisfied: urllib3<3,>=1.21.1 in /usr/local/lib/python3.10/dist-packages (from requests->keras-tuner) (2.0.4)\n",
            "Requirement already satisfied: certifi>=2017.4.17 in /usr/local/lib/python3.10/dist-packages (from requests->keras-tuner) (2023.7.22)\n",
            "Installing collected packages: kt-legacy, keras-tuner\n",
            "Successfully installed keras-tuner-1.3.5 kt-legacy-1.0.5\n",
            "Collecting jupyter-dash\n",
            "  Downloading jupyter_dash-0.4.2-py3-none-any.whl (23 kB)\n",
            "Collecting dash (from jupyter-dash)\n",
            "  Downloading dash-2.13.0-py3-none-any.whl (10.4 MB)\n",
            "\u001b[2K     \u001b[90m━━━━━━━━━━━━━━━━━━━━━━━━━━━━━━━━━━━━━━━━\u001b[0m \u001b[32m10.4/10.4 MB\u001b[0m \u001b[31m16.4 MB/s\u001b[0m eta \u001b[36m0:00:00\u001b[0m\n",
            "\u001b[?25hRequirement already satisfied: requests in /usr/local/lib/python3.10/dist-packages (from jupyter-dash) (2.31.0)\n",
            "Requirement already satisfied: flask in /usr/local/lib/python3.10/dist-packages (from jupyter-dash) (2.2.5)\n",
            "Collecting retrying (from jupyter-dash)\n",
            "  Downloading retrying-1.3.4-py3-none-any.whl (11 kB)\n",
            "Requirement already satisfied: ipython in /usr/local/lib/python3.10/dist-packages (from jupyter-dash) (7.34.0)\n",
            "Requirement already satisfied: ipykernel in /usr/local/lib/python3.10/dist-packages (from jupyter-dash) (5.5.6)\n",
            "Collecting ansi2html (from jupyter-dash)\n",
            "  Downloading ansi2html-1.8.0-py3-none-any.whl (16 kB)\n",
            "Requirement already satisfied: nest-asyncio in /usr/local/lib/python3.10/dist-packages (from jupyter-dash) (1.5.7)\n",
            "Collecting Werkzeug<2.3.0 (from dash->jupyter-dash)\n",
            "  Downloading Werkzeug-2.2.3-py3-none-any.whl (233 kB)\n",
            "\u001b[2K     \u001b[90m━━━━━━━━━━━━━━━━━━━━━━━━━━━━━━━━━━━━━━\u001b[0m \u001b[32m233.6/233.6 kB\u001b[0m \u001b[31m17.5 MB/s\u001b[0m eta \u001b[36m0:00:00\u001b[0m\n",
            "\u001b[?25hRequirement already satisfied: plotly>=5.0.0 in /usr/local/lib/python3.10/dist-packages (from dash->jupyter-dash) (5.15.0)\n",
            "Collecting dash-html-components==2.0.0 (from dash->jupyter-dash)\n",
            "  Downloading dash_html_components-2.0.0-py3-none-any.whl (4.1 kB)\n",
            "Collecting dash-core-components==2.0.0 (from dash->jupyter-dash)\n",
            "  Downloading dash_core_components-2.0.0-py3-none-any.whl (3.8 kB)\n",
            "Collecting dash-table==5.0.0 (from dash->jupyter-dash)\n",
            "  Downloading dash_table-5.0.0-py3-none-any.whl (3.9 kB)\n",
            "Requirement already satisfied: typing-extensions>=4.1.1 in /usr/local/lib/python3.10/dist-packages (from dash->jupyter-dash) (4.5.0)\n",
            "Requirement already satisfied: setuptools in /usr/local/lib/python3.10/dist-packages (from dash->jupyter-dash) (67.7.2)\n",
            "Requirement already satisfied: Jinja2>=3.0 in /usr/local/lib/python3.10/dist-packages (from flask->jupyter-dash) (3.1.2)\n",
            "Requirement already satisfied: itsdangerous>=2.0 in /usr/local/lib/python3.10/dist-packages (from flask->jupyter-dash) (2.1.2)\n",
            "Requirement already satisfied: click>=8.0 in /usr/local/lib/python3.10/dist-packages (from flask->jupyter-dash) (8.1.7)\n",
            "Requirement already satisfied: ipython-genutils in /usr/local/lib/python3.10/dist-packages (from ipykernel->jupyter-dash) (0.2.0)\n",
            "Requirement already satisfied: traitlets>=4.1.0 in /usr/local/lib/python3.10/dist-packages (from ipykernel->jupyter-dash) (5.7.1)\n",
            "Requirement already satisfied: jupyter-client in /usr/local/lib/python3.10/dist-packages (from ipykernel->jupyter-dash) (6.1.12)\n",
            "Requirement already satisfied: tornado>=4.2 in /usr/local/lib/python3.10/dist-packages (from ipykernel->jupyter-dash) (6.3.2)\n",
            "Requirement already satisfied: jedi>=0.16 in /usr/local/lib/python3.10/dist-packages (from ipython->jupyter-dash) (0.19.0)\n",
            "Requirement already satisfied: decorator in /usr/local/lib/python3.10/dist-packages (from ipython->jupyter-dash) (4.4.2)\n",
            "Requirement already satisfied: pickleshare in /usr/local/lib/python3.10/dist-packages (from ipython->jupyter-dash) (0.7.5)\n",
            "Requirement already satisfied: prompt-toolkit!=3.0.0,!=3.0.1,<3.1.0,>=2.0.0 in /usr/local/lib/python3.10/dist-packages (from ipython->jupyter-dash) (3.0.39)\n",
            "Requirement already satisfied: pygments in /usr/local/lib/python3.10/dist-packages (from ipython->jupyter-dash) (2.16.1)\n",
            "Requirement already satisfied: backcall in /usr/local/lib/python3.10/dist-packages (from ipython->jupyter-dash) (0.2.0)\n",
            "Requirement already satisfied: matplotlib-inline in /usr/local/lib/python3.10/dist-packages (from ipython->jupyter-dash) (0.1.6)\n",
            "Requirement already satisfied: pexpect>4.3 in /usr/local/lib/python3.10/dist-packages (from ipython->jupyter-dash) (4.8.0)\n",
            "Requirement already satisfied: charset-normalizer<4,>=2 in /usr/local/lib/python3.10/dist-packages (from requests->jupyter-dash) (3.2.0)\n",
            "Requirement already satisfied: idna<4,>=2.5 in /usr/local/lib/python3.10/dist-packages (from requests->jupyter-dash) (3.4)\n",
            "Requirement already satisfied: urllib3<3,>=1.21.1 in /usr/local/lib/python3.10/dist-packages (from requests->jupyter-dash) (2.0.4)\n",
            "Requirement already satisfied: certifi>=2017.4.17 in /usr/local/lib/python3.10/dist-packages (from requests->jupyter-dash) (2023.7.22)\n",
            "Requirement already satisfied: six>=1.7.0 in /usr/local/lib/python3.10/dist-packages (from retrying->jupyter-dash) (1.16.0)\n",
            "Requirement already satisfied: parso<0.9.0,>=0.8.3 in /usr/local/lib/python3.10/dist-packages (from jedi>=0.16->ipython->jupyter-dash) (0.8.3)\n",
            "Requirement already satisfied: MarkupSafe>=2.0 in /usr/local/lib/python3.10/dist-packages (from Jinja2>=3.0->flask->jupyter-dash) (2.1.3)\n",
            "Requirement already satisfied: ptyprocess>=0.5 in /usr/local/lib/python3.10/dist-packages (from pexpect>4.3->ipython->jupyter-dash) (0.7.0)\n",
            "Requirement already satisfied: tenacity>=6.2.0 in /usr/local/lib/python3.10/dist-packages (from plotly>=5.0.0->dash->jupyter-dash) (8.2.3)\n",
            "Requirement already satisfied: packaging in /usr/local/lib/python3.10/dist-packages (from plotly>=5.0.0->dash->jupyter-dash) (23.1)\n",
            "Requirement already satisfied: wcwidth in /usr/local/lib/python3.10/dist-packages (from prompt-toolkit!=3.0.0,!=3.0.1,<3.1.0,>=2.0.0->ipython->jupyter-dash) (0.2.6)\n",
            "Requirement already satisfied: jupyter-core>=4.6.0 in /usr/local/lib/python3.10/dist-packages (from jupyter-client->ipykernel->jupyter-dash) (5.3.1)\n",
            "Requirement already satisfied: pyzmq>=13 in /usr/local/lib/python3.10/dist-packages (from jupyter-client->ipykernel->jupyter-dash) (23.2.1)\n",
            "Requirement already satisfied: python-dateutil>=2.1 in /usr/local/lib/python3.10/dist-packages (from jupyter-client->ipykernel->jupyter-dash) (2.8.2)\n",
            "Requirement already satisfied: platformdirs>=2.5 in /usr/local/lib/python3.10/dist-packages (from jupyter-core>=4.6.0->jupyter-client->ipykernel->jupyter-dash) (3.10.0)\n",
            "Installing collected packages: dash-table, dash-html-components, dash-core-components, Werkzeug, retrying, ansi2html, dash, jupyter-dash\n",
            "  Attempting uninstall: Werkzeug\n",
            "    Found existing installation: Werkzeug 2.3.7\n",
            "    Uninstalling Werkzeug-2.3.7:\n",
            "      Successfully uninstalled Werkzeug-2.3.7\n",
            "Successfully installed Werkzeug-2.2.3 ansi2html-1.8.0 dash-2.13.0 dash-core-components-2.0.0 dash-html-components-2.0.0 dash-table-5.0.0 jupyter-dash-0.4.2 retrying-1.3.4\n",
            "Requirement already satisfied: plotly in /usr/local/lib/python3.10/dist-packages (5.15.0)\n",
            "Collecting plotly\n",
            "  Downloading plotly-5.16.1-py2.py3-none-any.whl (15.6 MB)\n",
            "\u001b[2K     \u001b[90m━━━━━━━━━━━━━━━━━━━━━━━━━━━━━━━━━━━━━━━━\u001b[0m \u001b[32m15.6/15.6 MB\u001b[0m \u001b[31m34.8 MB/s\u001b[0m eta \u001b[36m0:00:00\u001b[0m\n",
            "\u001b[?25hRequirement already satisfied: tenacity>=6.2.0 in /usr/local/lib/python3.10/dist-packages (from plotly) (8.2.3)\n",
            "Requirement already satisfied: packaging in /usr/local/lib/python3.10/dist-packages (from plotly) (23.1)\n",
            "Installing collected packages: plotly\n",
            "  Attempting uninstall: plotly\n",
            "    Found existing installation: plotly 5.15.0\n",
            "    Uninstalling plotly-5.15.0:\n",
            "      Successfully uninstalled plotly-5.15.0\n",
            "Successfully installed plotly-5.16.1\n"
          ]
        }
      ],
      "source": [
        "!pip install dynarray\n",
        "!pip install deap\n",
        "!pip install keras-tuner\n",
        "!pip install jupyter-dash\n",
        "!pip install plotly --upgrade\n",
        "import pandas as pd\n",
        "from tabulate import tabulate\n",
        "import numpy as np\n",
        "import pandas as pd\n",
        "from sklearn.preprocessing import StandardScaler\n",
        "from sklearn.model_selection import train_test_split\n",
        "from sklearn.utils import class_weight\n",
        "from sklearn.metrics import confusion_matrix\n",
        "from keras.models import Sequential\n",
        "from keras.layers import Dense, Dropout, BatchNormalization, Activation\n",
        "from matplotlib import pyplot as plt\n",
        "import seaborn as sns\n",
        "import tensorflow as tf\n",
        "from sklearn.metrics import accuracy_score, precision_score, recall_score\n",
        "from sklearn.model_selection import train_test_split\n",
        "from tensorflow.keras import layers, losses\n",
        "from tensorflow.keras.datasets import fashion_mnist\n",
        "from tensorflow.keras.models import Model\n",
        "from sklearn.cluster import KMeans\n",
        "from scipy.stats import kstest\n",
        "from dynarray import DynamicArray\n",
        "from sklearn.preprocessing import MinMaxScaler\n",
        "from sklearn.naive_bayes import GaussianNB\n",
        "import csv\n",
        "from tensorflow.keras.layers import Input, LSTM, RepeatVector, TimeDistributed, Dense\n",
        "from tensorflow.keras.callbacks import EarlyStopping\n",
        "import statsmodels.api as sm\n",
        "import scipy.stats as stats\n",
        "import seaborn as sb\n",
        "from keras.layers import Layer, TimeDistributed, RepeatVector\n",
        "from keras.layers import Bidirectional, Flatten, Concatenate\n",
        "from keras.layers import Lambda, Permute, dot\n",
        "# from keras.wrappers.scikit_learn import KerasClassifier\n",
        "from sklearn.model_selection import RandomizedSearchCV\n",
        "from keras.layers import Attention\n",
        "from deap import base, creator, tools, algorithms\n"
      ]
    },
    {
      "cell_type": "markdown",
      "source": [
        "#Data Loading"
      ],
      "metadata": {
        "id": "FRhf9FPs1Zi1"
      }
    },
    {
      "cell_type": "code",
      "execution_count": 2,
      "metadata": {
        "colab": {
          "base_uri": "https://localhost:8080/",
          "height": 245
        },
        "id": "mi2_h-dncvZw",
        "outputId": "96351801-b022-402b-cfd7-f9c2288c67b9"
      },
      "outputs": [
        {
          "output_type": "error",
          "ename": "NameError",
          "evalue": "ignored",
          "traceback": [
            "\u001b[0;31m---------------------------------------------------------------------------\u001b[0m",
            "\u001b[0;31mNameError\u001b[0m                                 Traceback (most recent call last)",
            "\u001b[0;32m<ipython-input-2-3248af80aca8>\u001b[0m in \u001b[0;36m<cell line: 1>\u001b[0;34m()\u001b[0m\n\u001b[0;32m----> 1\u001b[0;31m \u001b[0mmerged\u001b[0m \u001b[0;34m=\u001b[0m \u001b[0mpd\u001b[0m\u001b[0;34m.\u001b[0m\u001b[0mread_csv\u001b[0m\u001b[0;34m(\u001b[0m\u001b[0;34m'/content/drive/My Drive/batch/'\u001b[0m\u001b[0;34m+\u001b[0m\u001b[0mfilename\u001b[0m\u001b[0;34m+\u001b[0m\u001b[0;34m'.csv'\u001b[0m\u001b[0;34m,\u001b[0m \u001b[0mheader\u001b[0m\u001b[0;34m=\u001b[0m\u001b[0;36m0\u001b[0m\u001b[0;34m)\u001b[0m\u001b[0;34m\u001b[0m\u001b[0;34m\u001b[0m\u001b[0m\n\u001b[0m\u001b[1;32m      2\u001b[0m \u001b[0;31m#dataframe.head()\u001b[0m\u001b[0;34m\u001b[0m\u001b[0;34m\u001b[0m\u001b[0m\n\u001b[1;32m      3\u001b[0m \u001b[0mmerged\u001b[0m\u001b[0;34m=\u001b[0m\u001b[0mpd\u001b[0m\u001b[0;34m.\u001b[0m\u001b[0mDataFrame\u001b[0m\u001b[0;34m(\u001b[0m\u001b[0mdata\u001b[0m\u001b[0;34m=\u001b[0m\u001b[0mmerged\u001b[0m\u001b[0;34m)\u001b[0m\u001b[0;34m\u001b[0m\u001b[0;34m\u001b[0m\u001b[0m\n\u001b[1;32m      4\u001b[0m \u001b[0mmerged\u001b[0m\u001b[0;34m.\u001b[0m\u001b[0mfillna\u001b[0m\u001b[0;34m(\u001b[0m\u001b[0mmerged\u001b[0m\u001b[0;34m.\u001b[0m\u001b[0mmean\u001b[0m\u001b[0;34m(\u001b[0m\u001b[0;34m)\u001b[0m\u001b[0;34m)\u001b[0m\u001b[0;34m\u001b[0m\u001b[0;34m\u001b[0m\u001b[0m\n\u001b[1;32m      5\u001b[0m \u001b[0mmerged\u001b[0m \u001b[0;34m=\u001b[0m\u001b[0mmerged\u001b[0m\u001b[0;34m[\u001b[0m\u001b[0;34m~\u001b[0m\u001b[0mmerged\u001b[0m\u001b[0;34m.\u001b[0m\u001b[0misin\u001b[0m\u001b[0;34m(\u001b[0m\u001b[0;34m[\u001b[0m\u001b[0mnp\u001b[0m\u001b[0;34m.\u001b[0m\u001b[0mnan\u001b[0m\u001b[0;34m,\u001b[0m \u001b[0mnp\u001b[0m\u001b[0;34m.\u001b[0m\u001b[0minf\u001b[0m\u001b[0;34m,\u001b[0m \u001b[0;34m-\u001b[0m\u001b[0mnp\u001b[0m\u001b[0;34m.\u001b[0m\u001b[0minf\u001b[0m\u001b[0;34m]\u001b[0m\u001b[0;34m)\u001b[0m\u001b[0;34m.\u001b[0m\u001b[0many\u001b[0m\u001b[0;34m(\u001b[0m\u001b[0;36m1\u001b[0m\u001b[0;34m)\u001b[0m\u001b[0;34m]\u001b[0m\u001b[0;34m\u001b[0m\u001b[0;34m\u001b[0m\u001b[0m\n",
            "\u001b[0;31mNameError\u001b[0m: name 'filename' is not defined"
          ]
        }
      ],
      "source": [
        " merged = pd.read_csv('/content/drive/My Drive/batch/'+filename+'.csv', header=0)\n",
        " #dataframe.head()\n",
        " merged=pd.DataFrame(data=merged)\n",
        " merged.fillna(merged.mean())\n",
        " merged =merged[~merged.isin([np.nan, np.inf, -np.inf]).any(1)]\n",
        " merged\n"
      ]
    },
    {
      "cell_type": "markdown",
      "metadata": {
        "id": "YYzjnTy57QGU"
      },
      "source": [
        "\n",
        "![image.png](data:image/png;base64,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)\n",
        "\n"
      ]
    },
    {
      "cell_type": "markdown",
      "source": [
        "#Code"
      ],
      "metadata": {
        "id": "g-dfSqf0cZ1A"
      }
    },
    {
      "cell_type": "code",
      "source": [
        "\n",
        "import pandas as pd\n",
        "import plotly.express as px\n",
        "from jupyter_dash import JupyterDash\n",
        "from dash import dcc, html\n",
        "from dash.dependencies import Input, Output, State\n",
        "import plotly.graph_objs as go\n",
        "\n",
        "# Sample data (replace this with your actual data)\n",
        "# Assuming you have a variable 'merged' that contains your CPU, memory, and disk data\n",
        "# Here, we create a DataFrame 'df' using merged[5], merged[6], and merged[12]\n",
        "df = pd.DataFrame({'index': range(100), 'CPU': [0.1] * 100, 'Memory': [0.2] * 100, 'Disk': [0.3] * 100})\n",
        "df['CPU_label'] = 0  # Initialize the 'label' column with 0 for CPU\n",
        "df['Memory_label'] = 0  # Initialize the 'label' column with 0 for Memory\n",
        "df['Disk_label'] = 0  # Initialize the 'label' column with 0 for Disk\n",
        "\n",
        "# Define the groups and their respective colors for CPU, Memory, and Disk\n",
        "cpu_groups = {\n",
        "    'Group 1': (0, 0.0345),\n",
        "    'Group 2': (0.08, 0.12),\n",
        "    'Group 7': (0.12, 0.3),\n",
        "    'Group 8': (0.3, 0.6),\n",
        "    'Group 14': (0.6, 0.9),\n",
        "    'Group 15': (0.9, 1.0000),\n",
        "}\n",
        "\n",
        "disk_io_groups = {\n",
        "    'Group 1': (0, 0.0345),\n",
        "    'Group 2': (0.08, 0.12),\n",
        "    'Group 7': (0.12, 0.3),\n",
        "    'Group 8': (0.3, 0.6),\n",
        "    'Group 14': (0.6, 0.9),\n",
        "    'Group 15': (0.9, 1.0000),\n",
        "}\n",
        "\n",
        "# Define colors for each group\n",
        "colors = {\n",
        "    'Group 1': 'blue',\n",
        "    'Group 2': 'green',\n",
        "    'Group 7': 'orange',\n",
        "    'Group 8': 'purple',\n",
        "    'Group 14': 'pink',\n",
        "    'Group 15': 'cyan',\n",
        "}\n",
        "\n",
        "app = JupyterDash(__name__)\n",
        "\n",
        "app.layout = html.Div([\n",
        "    html.Div([\n",
        "        dcc.Graph(id='cpu-graph', config={'staticPlot': False, 'displayModeBar': True}),\n",
        "        html.Button(\"Mark Drift (CPU)\", id='cpu-mark-button', style={'display': 'block', 'margin': 'auto', 'padding': '10px 20px', 'font-size': '16px'}),\n",
        "    ]),\n",
        "    html.Div([\n",
        "        dcc.Graph(id='memory-graph', config={'staticPlot': False, 'displayModeBar': True}),\n",
        "        html.Button(\"Mark Drift (Memory)\", id='memory-mark-button', style={'display': 'block', 'margin': 'auto', 'padding': '10px 20px', 'font-size': '16px'}),\n",
        "    ]),\n",
        "    html.Div([\n",
        "        dcc.Graph(id='disk-graph', config={'staticPlot': False, 'displayModeBar': True}),\n",
        "        html.Button(\"Mark Drift (Disk)\", id='disk-mark-button', style={'display': 'block', 'margin': 'auto', 'padding': '10px 20px', 'font-size': '16px'}),\n",
        "    ]),\n",
        "    html.Div([\n",
        "        dcc.Graph(id='disk-io-graph', config={'staticPlot': False, 'displayModeBar': True}),\n",
        "        html.Button(\"Mark Drift (Disk IO)\", id='disk-io-mark-button', style={'display': 'block', 'margin': 'auto', 'padding': '10px 20px', 'font-size': '16px'}),\n",
        "    ]),\n",
        "])\n",
        "\n",
        "@app.callback(\n",
        "    Output('cpu-graph', 'figure'),\n",
        "    Input('cpu-mark-button', 'n_clicks'),\n",
        "    State('cpu-graph', 'relayoutData')\n",
        ")\n",
        "def update_cpu_graph(n_clicks, relayout_data):\n",
        "    if n_clicks is None:\n",
        "        n_clicks = 0  # Set initial value for n_clicks\n",
        "\n",
        "    if relayout_data is None:\n",
        "        return px.line(df, x='index', y='CPU', labels={'index': 'Time', 'CPU': 'Value'}, title='CPU Time Series Data')\n",
        "\n",
        "    xaxis_range = relayout_data.get('xaxis.range', None)\n",
        "    if xaxis_range:\n",
        "        xaxis_min, xaxis_max = xaxis_range\n",
        "        df.loc[(df['index'] >= xaxis_min) & (df['index'] <= xaxis_max), 'Disk_label'] = 1  # Update 'Disk_label' to 1 when marking as 'Drift'\n",
        "\n",
        "    fig = px.line(df, x='index', y='Disk', labels={'index': 'Time', 'Disk': 'Value'}, title='Disk Time Series Data with Drift')\n",
        "\n",
        "    # Change the marker symbol to a red circle ('circle' symbol) and color to red\n",
        "    df_drift = df[df['Disk_label'] == 1]\n",
        "    fig.add_trace(go.Scatter(x=df_drift['index'], y=df_drift['Disk'], mode='markers', marker=dict(symbol='circle', color='red'), name='Drift'))\n",
        "\n",
        "    # Add vertical lines at the points where 'Drift' is marked (light gray lines)\n",
        "    for group, (start, end) in groups.items():\n",
        "        fig.add_shape(go.layout.Shape(\n",
        "            type=\"line\",\n",
        "            x0=df['index'].min(),\n",
        "            x1=df['index'].max(),\n",
        "            y0=start,\n",
        "            y1=start,\n",
        "            line=dict(color=colors[group], width=0.1, dash='dot'),\n",
        "        ))\n",
        "        fig.add_shape(go.layout.Shape(\n",
        "            type=\"line\",\n",
        "            x0=df['index'].min(),\n",
        "            x1=df['index'].max(),\n",
        "            y0=end,\n",
        "            y1=end,\n",
        "            line=dict(color=colors[group], width=0.1, dash='dot'),\n",
        "        ))\n",
        "\n",
        "    fig.update_xaxes(rangeslider_visible=True)\n",
        "\n",
        "    return fig"
      ],
      "metadata": {
        "id": "V2XHgkZpLDLq"
      },
      "execution_count": null,
      "outputs": []
    },
    {
      "cell_type": "code",
      "source": [
        "if __name__ == '__main__':\n",
        "    app.run_server(debug=True)"
      ],
      "metadata": {
        "id": "ddzgdjnDaDr0"
      },
      "execution_count": null,
      "outputs": []
    },
    {
      "cell_type": "code",
      "source": [
        "# if __name__ == '__main__':\n",
        "#     app.run_server(debug=True)\n",
        "\n",
        "# # Run the app in the notebook\n",
        "# if __name__ == '__main__':\n",
        "#     app.run_server(mode='external')"
      ],
      "metadata": {
        "id": "mboZ81ZBXGw7"
      },
      "execution_count": null,
      "outputs": []
    },
    {
      "cell_type": "markdown",
      "metadata": {
        "id": "xp6lafuMamO7"
      },
      "source": [
        "#Output"
      ]
    },
    {
      "cell_type": "code",
      "source": [
        "def highlight_red(val):\n",
        "    if val == 1:\n",
        "        return 'background-color: red'\n",
        "    else:\n",
        "        return ''\n",
        "styled_df = df.style.applymap(highlight_red, subset=['CPU_label'])\n",
        "styled_df = df.style.applymap(highlight_red, subset=['Memory_label'])\n",
        "styled_df = df.style.applymap(highlight_red, subset=['Disk_label'])\n",
        "\n",
        "styled_df"
      ],
      "metadata": {
        "id": "yZ9AGgLq0fS-"
      },
      "execution_count": null,
      "outputs": []
    },
    {
      "cell_type": "code",
      "source": [
        "output_file_path = '/content/drive/My Drive/batch/'+filename+'.csv''  # Replace with your desired output file path\n",
        "df.to_csv(output_file_path, index=False)"
      ],
      "metadata": {
        "id": "tSoZeUtsJMxQ"
      },
      "execution_count": null,
      "outputs": []
    }
  ],
  "metadata": {
    "accelerator": "TPU",
    "colab": {
      "collapsed_sections": [
        "lDd-dmY1Xna6"
      ],
      "provenance": [],
      "toc_visible": true,
      "mount_file_id": "1V2MLoVzfZ6estyo778cm6LwzKqR2mz57",
      "authorship_tag": "ABX9TyM0zDu1gHHe8ZmwZxqrwtDj",
      "include_colab_link": true
    },
    "kernelspec": {
      "display_name": "Python 3",
      "name": "python3"
    },
    "language_info": {
      "name": "python"
    }
  },
  "nbformat": 4,
  "nbformat_minor": 0
}